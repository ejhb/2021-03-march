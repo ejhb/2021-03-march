{
 "cells": [
  {
   "cell_type": "markdown",
   "metadata": {
    "id": "RfgjvzdsFK6j"
   },
   "source": [
    "<img src=\"https://static.botify.com/images/botify_logo.f0c9a6baa2c7.png\">"
   ]
  },
  {
   "cell_type": "markdown",
   "metadata": {
    "id": "uB1RoJX9HxN5"
   },
   "source": [
    "This notebook contains 3 questions:\n",
    "1. Implement the perceptron learning algorithm from scratch, and apply it to the logic AND function.\n",
    "2. Evaluate the predictions.\n",
    "3. Apply it to the logic XOR function, and explain why it doesn't work."
   ]
  },
  {
   "cell_type": "markdown",
   "metadata": {
    "id": "glZ174EOjT5X"
   },
   "source": [
    "**Feel free to use the recommanded materials (pseudo code for the learning algorithm, links to external websites, ...etc.) or any other sources.**"
   ]
  },
  {
   "cell_type": "markdown",
   "metadata": {
    "id": "Qzlzz7uaG1p0"
   },
   "source": [
    "# Let's go back in time, to 1957!"
   ]
  },
  {
   "cell_type": "markdown",
   "metadata": {
    "id": "CJrKZ0uZfMeD"
   },
   "source": [
    "The [Perceptron](https://en.wikipedia.org/wiki/Perceptron) was invented by [Rosenblatt](https://en.wikipedia.org/wiki/Frank_Rosenblatt) in 1957 and [published](https://citeseerx.ist.psu.edu/viewdoc/download?doi=10.1.1.335.3398&rep=rep1&type=pdf)\n",
    " in 1958 journal \"Psychological Review\":\n",
    "\n",
    "    Rosenblatt, Frank. \"The perceptron: a probabilistic model for\n",
    "    information storage and organization in the brain.\" Psychological\n",
    "    review 65.6 (1958): 386.\n",
    "\n",
    "\n",
    "Rosenblatt introduced a **learning algorithm** that modifies the weights of inputs based on the observed error."
   ]
  },
  {
   "cell_type": "markdown",
   "metadata": {
    "id": "Pjss_RIKz2hS"
   },
   "source": [
    "Perceptron may eventually be able to learn, make decisions, and translate languages.\n",
    "\n",
    "-- *Frank Rosenblatt*"
   ]
  },
  {
   "cell_type": "markdown",
   "metadata": {
    "id": "9lYG5nkhPtLC"
   },
   "source": [
    "<img src=\"https://drive.google.com/uc?id=1XZwC8kd2x7SLTJmw_D0E7QCxStXjGyCb\" width=500> "
   ]
  },
  {
   "cell_type": "markdown",
   "metadata": {
    "id": "8B7VhtptHMk7"
   },
   "source": [
    "## 1) Implement the perceptron learning algorithm from scratch in python, and apply it to the logic **AND** function ($\\wedge$)"
   ]
  },
  {
   "cell_type": "markdown",
   "metadata": {
    "id": "kAu2DS_CrnRk"
   },
   "source": [
    "| $x_1$ | $x_2$ | $y$  |\n",
    "| :---: |:-----:|:----:|\n",
    "| 0 | 0 | 0|\n",
    "| 0 | 1 | 0|\n",
    "| 1 | 0 | 0|\n",
    "| 1 | 1 | 1|\n"
   ]
  },
  {
   "cell_type": "markdown",
   "metadata": {
    "id": "pyU719NDSyEQ"
   },
   "source": [
    "You can **only** use Numpy.\n",
    "\n",
    "<img src=\"https://numpy.org/images/logos/numpy.svg\" width=100>"
   ]
  },
  {
   "cell_type": "code",
   "execution_count": null,
   "metadata": {
    "id": "vp9wAEumK_I5"
   },
   "outputs": [],
   "source": [
    "import numpy as np"
   ]
  },
  {
   "cell_type": "markdown",
   "metadata": {
    "id": "NKx2zdubqiry"
   },
   "source": [
    "### The learning algorithm"
   ]
  },
  {
   "cell_type": "markdown",
   "metadata": {
    "id": "2p3uT308DNz7"
   },
   "source": [
    "<img src=\"https://drive.google.com/uc?id=1Dx5dEr9NOIJRmk44PTsOUodOh_Gcbg11\" width=500>"
   ]
  },
  {
   "cell_type": "markdown",
   "metadata": {
    "id": "7OYqILu6Y4PX"
   },
   "source": [
    "Training simply means, **minimize a loss function** (cost) as much as possible, by finding the right parameters (weights and biases)"
   ]
  },
  {
   "cell_type": "markdown",
   "metadata": {
    "id": "paLcGWL3X7XU"
   },
   "source": [
    "<img src=\"https://miro.medium.com/max/1476/1*wje5-soLhLjDApnuPMwm2A.png\" width=800>"
   ]
  },
  {
   "cell_type": "code",
   "execution_count": null,
   "metadata": {
    "id": "iMYnh6fZlntz"
   },
   "outputs": [],
   "source": [
    "#Implement Rosenblatt's learning algorithm"
   ]
  },
  {
   "cell_type": "markdown",
   "metadata": {
    "id": "cCWTPkleK8og"
   },
   "source": [
    "## 2) Evaluate the predictions"
   ]
  },
  {
   "cell_type": "markdown",
   "metadata": {
    "id": "2haneZTJNtpf"
   },
   "source": [
    "<img src=\"https://drive.google.com/uc?id=1Wg6EYgEFUjxFkr1R9ZCh9PrE_v-ihmk5\" width=700>"
   ]
  },
  {
   "cell_type": "code",
   "execution_count": null,
   "metadata": {
    "id": "VshSOFsWIcvM"
   },
   "outputs": [],
   "source": [
    "#Evaluate the predictions: apply a loss function for example."
   ]
  },
  {
   "cell_type": "markdown",
   "metadata": {
    "id": "uD0aH3ofard8"
   },
   "source": [
    "# The Perceptrons, published in 1969"
   ]
  },
  {
   "cell_type": "markdown",
   "metadata": {
    "id": "vKprEhzNO7X7"
   },
   "source": [
    "The [*Perceptrons*](https://en.wikipedia.org/wiki/Perceptrons_(book)) book was a harsh critique on Rosenblatt’s perceptrons"
   ]
  },
  {
   "cell_type": "markdown",
   "metadata": {
    "id": "NzoG350V08Or"
   },
   "source": [
    "It is impossible for these classes of network to learn an XOR function.\n",
    "\n",
    "-- *Perceptrons by Marvin Minsky and Seymour Papert* "
   ]
  },
  {
   "cell_type": "markdown",
   "metadata": {
    "id": "JRO6EsLE1wHm"
   },
   "source": [
    "## 3) Apply it to the logic XOR function ,and explain why it doesn't work."
   ]
  },
  {
   "cell_type": "markdown",
   "metadata": {
    "id": "9E6ypNrSp5yI"
   },
   "source": [
    "an XOR function should return 1 if the two inputs are not equal and 0 otherwise.\n",
    "\n",
    "| $x_1$ | $x_2$ | $y$  |\n",
    "| :---: |:-----:|:----:|\n",
    "| 0 | 0 | 0|\n",
    "| 0 | 1 | 1|\n",
    "| 1 | 0 | 1|\n",
    "| 1 | 1 | 0|\n"
   ]
  },
  {
   "cell_type": "code",
   "execution_count": null,
   "metadata": {
    "id": "kFeyD5a2owiP"
   },
   "outputs": [],
   "source": [
    "#Apply your previous code to the logic XOR function"
   ]
  },
  {
   "cell_type": "markdown",
   "metadata": {
    "id": "LmpnHJK3LyIN"
   },
   "source": [
    "Explain here why it doesn't work."
   ]
  },
  {
   "cell_type": "code",
   "execution_count": null,
   "metadata": {
    "id": "LGea88IqWtu2"
   },
   "outputs": [],
   "source": []
  }
 ],
 "metadata": {
  "colab": {
   "collapsed_sections": [],
   "name": "DataScientistAlternance@Botify - [Caroline Cao].ipynb",
   "provenance": []
  },
  "kernelspec": {
   "display_name": "Python 3",
   "language": "python",
   "name": "python3"
  },
  "language_info": {
   "codemirror_mode": {
    "name": "ipython",
    "version": 3
   },
   "file_extension": ".py",
   "mimetype": "text/x-python",
   "name": "python",
   "nbconvert_exporter": "python",
   "pygments_lexer": "ipython3",
   "version": "3.8.5"
  }
 },
 "nbformat": 4,
 "nbformat_minor": 1
}
